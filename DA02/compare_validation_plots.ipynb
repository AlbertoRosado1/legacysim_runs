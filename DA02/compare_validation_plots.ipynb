{
 "cells": [
  {
   "cell_type": "code",
   "execution_count": 1,
   "id": "6997ee5c-6d9a-4fec-8757-b00b972ea759",
   "metadata": {},
   "outputs": [],
   "source": [
    "import sys\n",
    "sys.path.append(\"/global/homes/a/arosado/photometry/\")"
   ]
  },
  {
   "cell_type": "code",
   "execution_count": 2,
   "id": "6ddfdb86-253a-4a7a-ba5a-ac49a2712cdd",
   "metadata": {},
   "outputs": [],
   "source": [
    "import os\n",
    "import logging\n",
    "import numpy as np\n",
    "import fitsio as ft\n",
    "from matplotlib import pyplot as plt\n",
    "\n",
    "from photometry import TargetSelection, utils, setup_logging\n",
    "from photometry import Catalogue, HealpixDensity\n",
    "\n",
    "logger = logging.getLogger('DA02')\n",
    "setup_logging()\n",
    "plot_dir = '/global/homes/a/arosado/legacysim_runs/DA02/plots'\n",
    "run = 'north'"
   ]
  },
  {
   "cell_type": "code",
   "execution_count": 3,
   "id": "28d788bc-e1a3-4a24-9884-8031d6af97cf",
   "metadata": {},
   "outputs": [],
   "source": [
    "output_dir = os.path.join(os.getenv('CSCRATCH'),'legacysim','dr9','DA02',run)\n",
    "injected_fn = os.path.join(output_dir,'file0_rs0_skip0','injected.fits')"
   ]
  },
  {
   "cell_type": "code",
   "execution_count": 4,
   "id": "f3490c82-7bd4-41ee-99fa-cf61eb1b57b8",
   "metadata": {},
   "outputs": [],
   "source": [
    "adematti_legacysim_fn = os.path.join(os.getenv('CSCRATCH'),'legacysim','dr9','DA02',run,'file0_rs0_skip0','merged','adematti_matched_input.fits')\n",
    "legacysim_fn = os.path.join(os.getenv('CSCRATCH'),'legacysim','dr9','DA02',run,'file0_rs0_skip0','merged','matched_input.fits')"
   ]
  },
  {
   "cell_type": "markdown",
   "id": "74d1b820-b598-4f34-b0f2-fe5352a637c6",
   "metadata": {},
   "source": [
    "Get bricks that are same for both runs"
   ]
  },
  {
   "cell_type": "code",
   "execution_count": 5,
   "id": "54047c01-b362-4029-bf28-732501b392b3",
   "metadata": {},
   "outputs": [],
   "source": [
    "a_legacysim = ft.FITS(adematti_legacysim_fn)[1]\n",
    "legacysim = ft.FITS(legacysim_fn)[1]"
   ]
  },
  {
   "cell_type": "code",
   "execution_count": 6,
   "id": "712e5854-18a1-4280-ad67-08723b509592",
   "metadata": {},
   "outputs": [
    {
     "name": "stdout",
     "output_type": "stream",
     "text": [
      "7685 7685\n"
     ]
    }
   ],
   "source": [
    "my_bricks = np.unique(legacysim['input_brickname'][:])\n",
    "adematti_bricks = np.unique(a_legacysim['input_brickname'][:])\n",
    "mask = np.isin(my_bricks, adematti_bricks)\n",
    "bricks2use = my_bricks[mask]\n",
    "a_mask = np.isin(adematti_bricks, my_bricks)\n",
    "a_bricks2use = adematti_bricks[a_mask]\n",
    "print(bricks2use.size,a_bricks2use.size) # shoulf be same"
   ]
  },
  {
   "cell_type": "markdown",
   "id": "29317d6a-4932-4b41-893e-0a60e7989631",
   "metadata": {},
   "source": [
    "Get inputs with `matched`"
   ]
  },
  {
   "cell_type": "code",
   "execution_count": 7,
   "id": "1bc2e152-e101-4583-9cb0-afee7f910016",
   "metadata": {},
   "outputs": [
    {
     "name": "stdout",
     "output_type": "stream",
     "text": [
      "My run\n",
      "input 4222391\n",
      "output 2931026\n"
     ]
    }
   ],
   "source": [
    "print('My run')\n",
    "mask1 = np.isin(legacysim['input_brickname'][:],bricks2use)\n",
    "my_input = legacysim['input_brickname'][:]\n",
    "print('input',my_input.size)\n",
    "my_input_matched = my_input[legacysim['matched'][:]]\n",
    "print('output',my_input_matched.size)"
   ]
  },
  {
   "cell_type": "code",
   "execution_count": 8,
   "id": "19c52d88-7e3d-4f08-827e-9857d11f98a7",
   "metadata": {},
   "outputs": [
    {
     "name": "stdout",
     "output_type": "stream",
     "text": [
      "My run: same bricks\n",
      "input 4153756\n",
      "output 2883278\n"
     ]
    }
   ],
   "source": [
    "print('My run: same bricks')\n",
    "#mask = np.isin(legacysim['input_brickname'][:],bricks2use)\n",
    "my_input = legacysim['input_brickname'][:][mask1]\n",
    "print('input',my_input.size)\n",
    "my_input_matched = my_input[legacysim['matched'][:][mask1]]\n",
    "print('output',my_input_matched.size)"
   ]
  },
  {
   "cell_type": "code",
   "execution_count": 9,
   "id": "90841d23-2550-44d3-909b-6586e933c548",
   "metadata": {},
   "outputs": [
    {
     "name": "stdout",
     "output_type": "stream",
     "text": [
      "Arnaud's run\n",
      "input 5592566\n",
      "output 3858719\n"
     ]
    }
   ],
   "source": [
    "print(\"Arnaud's run\")\n",
    "mask2 = np.isin(a_legacysim['input_brickname'][:],bricks2use)\n",
    "a_input = a_legacysim['input_brickname'][:]\n",
    "print('input',a_input.size)\n",
    "a_input_matched = a_input[a_legacysim['matched'][:]]\n",
    "print('output',a_input_matched.size)"
   ]
  },
  {
   "cell_type": "code",
   "execution_count": 10,
   "id": "2c156290-5ab2-4962-bc9c-0c5071e0478e",
   "metadata": {},
   "outputs": [
    {
     "name": "stdout",
     "output_type": "stream",
     "text": [
      "Arnaud's run: same bricks\n",
      "input 4153756\n",
      "output 2883122\n"
     ]
    }
   ],
   "source": [
    "print(\"Arnaud's run: same bricks\")\n",
    "#mask = np.isin(a_legacysim['input_brickname'][:],bricks2use)\n",
    "a_input = a_legacysim['input_brickname'][:][mask2]\n",
    "print('input',a_input.size)\n",
    "a_input_matched = a_input[a_legacysim['matched'][:][mask2]]\n",
    "print('output',a_input_matched.size)"
   ]
  },
  {
   "cell_type": "markdown",
   "id": "5dddce56-91ba-4975-b787-a062a1b50a3f",
   "metadata": {},
   "source": [
    "Check if input positons are the same"
   ]
  },
  {
   "cell_type": "code",
   "execution_count": 11,
   "id": "666f0d70-8398-4965-bf4e-61dfe161b6c5",
   "metadata": {},
   "outputs": [
    {
     "name": "stdout",
     "output_type": "stream",
     "text": [
      "4153756 4153756\n"
     ]
    }
   ],
   "source": [
    "pos = {'ra':np.sort(legacysim['input_ra'][:][mask1]), 'dec':np.sort(legacysim['input_dec'][:][mask1])}\n",
    "a_pos = {'ra':np.sort(a_legacysim['input_ra'][:][mask2]), 'dec':np.sort(a_legacysim['input_dec'][:][mask2])}\n",
    "print(pos['ra'].size,a_pos['ra'].size)"
   ]
  },
  {
   "cell_type": "code",
   "execution_count": 12,
   "id": "07cb015a-2ed3-4627-bd7c-044658aba9b9",
   "metadata": {},
   "outputs": [
    {
     "data": {
      "text/plain": [
       "{'ra': array([183.89183516, 183.89187024, 183.8919053 , ..., 255.87414972,\n",
       "        255.87437472, 255.87460008]),\n",
       " 'dec': array([32.38460473, 32.38460481, 32.38460558, ..., 66.11528946,\n",
       "        66.11529376, 66.11529377])}"
      ]
     },
     "execution_count": 12,
     "metadata": {},
     "output_type": "execute_result"
    }
   ],
   "source": [
    "pos"
   ]
  },
  {
   "cell_type": "code",
   "execution_count": 13,
   "id": "4a110320-6232-4a24-98af-e3f54bea3292",
   "metadata": {},
   "outputs": [
    {
     "data": {
      "text/plain": [
       "{'ra': array([183.89183516, 183.89187024, 183.8919053 , ..., 255.8740343 ,\n",
       "        255.87425921, 255.87448448]),\n",
       " 'dec': array([32.38460334, 32.38460341, 32.38460403, ..., 66.1152911 ,\n",
       "        66.1152911 , 66.11529327])}"
      ]
     },
     "execution_count": 13,
     "metadata": {},
     "output_type": "execute_result"
    }
   ],
   "source": [
    "a_pos"
   ]
  },
  {
   "cell_type": "code",
   "execution_count": 14,
   "id": "4723d792-fff8-47d9-9b93-8600ae9a88db",
   "metadata": {},
   "outputs": [
    {
     "name": "stdout",
     "output_type": "stream",
     "text": [
      "0.0 0.00017044809817434725\n",
      "0.0 6.573454438552062e-05\n"
     ]
    }
   ],
   "source": [
    "delra = pos['ra'] - a_pos['ra']\n",
    "#plt.hist(delra)\n",
    "plt.show()\n",
    "delra = abs(delra)\n",
    "\n",
    "print(delra.min(),delra.max())\n",
    "deldec = pos['dec'] - a_pos['dec']\n",
    "#plt.hist(deldec)\n",
    "plt.show()\n",
    "deldec = abs(deldec)\n",
    "\n",
    "print(deldec.min(),deldec.max())"
   ]
  },
  {
   "cell_type": "code",
   "execution_count": 15,
   "id": "f99a2ba0-ce8d-4a20-a2e1-6fcab5ee52bf",
   "metadata": {},
   "outputs": [
    {
     "name": "stdout",
     "output_type": "stream",
     "text": [
      "False False\n"
     ]
    }
   ],
   "source": [
    "start = 0\n",
    "end = pos['ra'].size\n",
    "print(np.array_equal(pos['ra'][start:end],a_pos['ra'][start:end]),np.array_equal(pos['dec'][start:end],a_pos['dec'][start:end]))"
   ]
  },
  {
   "cell_type": "code",
   "execution_count": 16,
   "id": "951f9a65-c018-4c21-a682-e38465f8568a",
   "metadata": {},
   "outputs": [
    {
     "data": {
      "text/plain": [
       "array(['1840p335', '1840p335', '1840p335', ..., '2556p440', '2556p440',\n",
       "       '2556p440'], dtype='<U8')"
      ]
     },
     "execution_count": 16,
     "metadata": {},
     "output_type": "execute_result"
    }
   ],
   "source": [
    "sort1 = np.argsort(legacysim['input_brickname'][:][mask1])\n",
    "legacysim['input_brickname'][:][mask1][sort1]"
   ]
  },
  {
   "cell_type": "code",
   "execution_count": 17,
   "id": "e150bb64-a6a3-49c7-a236-557808ecb9d9",
   "metadata": {},
   "outputs": [
    {
     "data": {
      "text/plain": [
       "array(['1840p335', '1840p335', '1840p335', ..., '2556p440', '2556p440',\n",
       "       '2556p440'], dtype='<U8')"
      ]
     },
     "execution_count": 17,
     "metadata": {},
     "output_type": "execute_result"
    }
   ],
   "source": [
    "sort2 = np.argsort(a_legacysim['input_brickname'][:][mask2])\n",
    "a_legacysim['input_brickname'][:][mask2][sort2]"
   ]
  },
  {
   "cell_type": "code",
   "execution_count": 18,
   "id": "3e75f6de-7590-4fbc-8c9c-dd957054af77",
   "metadata": {},
   "outputs": [
    {
     "name": "stdout",
     "output_type": "stream",
     "text": [
      "4153756 4153756\n"
     ]
    }
   ],
   "source": [
    "pos = {'ra':legacysim['input_ra'][:][mask1][sort1], 'dec':legacysim['input_dec'][:][mask1][sort1]}\n",
    "a_pos = {'ra':a_legacysim['input_ra'][:][mask2][sort2], 'dec':a_legacysim['input_dec'][:][mask2][sort2]}\n",
    "print(pos['ra'].size,a_pos['ra'].size)"
   ]
  },
  {
   "cell_type": "code",
   "execution_count": 19,
   "id": "a8f2640c-ef39-4f31-84cd-b59db211f036",
   "metadata": {},
   "outputs": [
    {
     "data": {
      "text/plain": [
       "{'ra': array([184.01142046, 184.07424056, 184.06167897, ..., 255.70015687,\n",
       "        255.49633627, 255.64192752]),\n",
       " 'dec': array([33.50003027, 33.45810711, 33.45811027, ..., 43.95809022,\n",
       "        43.95802558, 44.00002871])}"
      ]
     },
     "execution_count": 19,
     "metadata": {},
     "output_type": "execute_result"
    }
   ],
   "source": [
    "pos"
   ]
  },
  {
   "cell_type": "code",
   "execution_count": 20,
   "id": "cdd05af4-6fe8-49f4-8ca3-5c71cae0d221",
   "metadata": {},
   "outputs": [
    {
     "data": {
      "text/plain": [
       "{'ra': array([183.89183516, 184.09936372, 184.08680214, ..., 255.70012641,\n",
       "        255.49630591, 255.65646598]),\n",
       " 'dec': array([33.61522839, 33.45809697, 33.45810267, ..., 43.95806235,\n",
       "        43.95799765, 43.99999898])}"
      ]
     },
     "execution_count": 20,
     "metadata": {},
     "output_type": "execute_result"
    }
   ],
   "source": [
    "a_pos"
   ]
  },
  {
   "cell_type": "code",
   "execution_count": 22,
   "id": "146a2172-6a4a-4ea0-bae0-0b617a96d134",
   "metadata": {},
   "outputs": [
    {
     "data": {
      "image/png": "[encoded data removed]",
      "text/plain": [
       "<Figure size 432x288 with 1 Axes>"
      ]
     },
     "metadata": {
      "needs_background": "light"
     },
     "output_type": "display_data"
    },
    {
     "name": "stdout",
     "output_type": "stream",
     "text": [
      "0.0 0.5954750390365575\n"
     ]
    },
    {
     "data": {
      "image/png": "[encoded data removed]",
      "text/plain": [
       "<Figure size 432x288 with 1 Axes>"
      ]
     },
     "metadata": {
      "needs_background": "light"
     },
     "output_type": "display_data"
    },
    {
     "name": "stdout",
     "output_type": "stream",
     "text": [
      "0.0 0.23080023537677619\n"
     ]
    }
   ],
   "source": [
    "delra = pos['ra'] - a_pos['ra']\n",
    "plt.hist(delra)\n",
    "plt.show()\n",
    "delra = abs(delra)\n",
    "\n",
    "print(delra.min(),delra.max())\n",
    "deldec = pos['dec'] - a_pos['dec']\n",
    "plt.hist(deldec)\n",
    "plt.show()\n",
    "deldec = abs(deldec)\n",
    "\n",
    "print(deldec.min(),deldec.max())"
   ]
  },
  {
   "cell_type": "markdown",
   "id": "d86cf4d7-2632-4568-9b2c-2c835166ffba",
   "metadata": {},
   "source": [
    "Check if id is the same for my input and Arnaud's input"
   ]
  },
  {
   "cell_type": "code",
   "execution_count": 19,
   "id": "16282768-d1df-4af4-b874-859b485f338c",
   "metadata": {},
   "outputs": [
    {
     "data": {
      "text/plain": [
       "4153756"
      ]
     },
     "execution_count": 19,
     "metadata": {},
     "output_type": "execute_result"
    }
   ],
   "source": [
    "a = np.sort(legacysim['input_id'][:][mask1])\n",
    "a.size"
   ]
  },
  {
   "cell_type": "code",
   "execution_count": 17,
   "id": "27a9922a-31ba-43b4-ad99-5d2d4a25ac4b",
   "metadata": {},
   "outputs": [
    {
     "data": {
      "text/plain": [
       "4153756"
      ]
     },
     "execution_count": 17,
     "metadata": {},
     "output_type": "execute_result"
    }
   ],
   "source": [
    "b =  np.sort(a_legacysim['input_id'][:][mask2])\n",
    "b.size"
   ]
  },
  {
   "cell_type": "code",
   "execution_count": 19,
   "id": "24cd6bfd-ec79-4e48-9c4f-3c097c1e1424",
   "metadata": {},
   "outputs": [
    {
     "data": {
      "text/plain": [
       "True"
      ]
     },
     "execution_count": 19,
     "metadata": {},
     "output_type": "execute_result"
    }
   ],
   "source": [
    "np.array_equal(a,b)"
   ]
  },
  {
   "cell_type": "code",
   "execution_count": 20,
   "id": "f2257635-7a2f-4a6a-8153-e92036a25d11",
   "metadata": {},
   "outputs": [
    {
     "data": {
      "text/plain": [
       "True"
      ]
     },
     "execution_count": 20,
     "metadata": {},
     "output_type": "execute_result"
    }
   ],
   "source": [
    "np.array_equal(np.unique(a),np.unique(b))"
   ]
  },
  {
   "cell_type": "code",
   "execution_count": 21,
   "id": "f5a2f717-ac10-407d-a05b-f064698ab659",
   "metadata": {},
   "outputs": [
    {
     "data": {
      "text/plain": [
       "2883278"
      ]
     },
     "execution_count": 21,
     "metadata": {},
     "output_type": "execute_result"
    }
   ],
   "source": [
    "a = np.sort(legacysim['input_id'][:][mask1][legacysim['matched'][:][mask1]])\n",
    "a.size"
   ]
  },
  {
   "cell_type": "code",
   "execution_count": 22,
   "id": "eb2dd5b6-995a-476c-8fc9-836aec2ac4e1",
   "metadata": {},
   "outputs": [
    {
     "data": {
      "text/plain": [
       "2883122"
      ]
     },
     "execution_count": 22,
     "metadata": {},
     "output_type": "execute_result"
    }
   ],
   "source": [
    "b =  np.sort(a_legacysim['input_id'][:][mask2][a_legacysim['matched'][:][mask2]])\n",
    "b.size"
   ]
  },
  {
   "cell_type": "code",
   "execution_count": 23,
   "id": "b10a22d8-ada1-46b4-9d01-2fb42b7dfc92",
   "metadata": {},
   "outputs": [
    {
     "data": {
      "text/plain": [
       "0.99994589491544"
      ]
     },
     "execution_count": 23,
     "metadata": {},
     "output_type": "execute_result"
    }
   ],
   "source": [
    "b.size/a.size"
   ]
  },
  {
   "cell_type": "markdown",
   "id": "dca2083d-3d69-4c0a-908b-7f1a7ec6ab40",
   "metadata": {},
   "source": [
    "looking at seed column"
   ]
  },
  {
   "cell_type": "code",
   "execution_count": 15,
   "id": "9428f7fb-28e2-4d45-be1c-86f04b367b48",
   "metadata": {},
   "outputs": [],
   "source": [
    "inj = ft.FITS(injected_fn)[1]\n",
    "a_inj = ft.FITS(output_dir+'/injected.fits')[1]"
   ]
  },
  {
   "cell_type": "code",
   "execution_count": 16,
   "id": "d064675c-3b19-4c04-85c3-067910624747",
   "metadata": {},
   "outputs": [
    {
     "name": "stdout",
     "output_type": "stream",
     "text": [
      "13718 13718 13718\n"
     ]
    }
   ],
   "source": [
    "my_bricks = np.unique(inj['brickname'][:])\n",
    "adematti_bricks = np.unique(a_inj['brickname'][:])\n",
    "mask = np.isin(my_bricks, adematti_bricks)\n",
    "bricks2use = my_bricks[mask]\n",
    "a_mask = np.isin(adematti_bricks, my_bricks)\n",
    "a_bricks2use = adematti_bricks[a_mask]\n",
    "print(bricks2use.size,a_bricks2use.size, bricks2use.size) # shoulf be same"
   ]
  },
  {
   "cell_type": "code",
   "execution_count": 17,
   "id": "2cd7216d-a4d1-4eac-bceb-1895cfb56910",
   "metadata": {},
   "outputs": [
    {
     "name": "stdout",
     "output_type": "stream",
     "text": [
      "7547545 7414593\n"
     ]
    }
   ],
   "source": [
    "#inj = ft.FITS(injected_fn)[1]\n",
    "seed = inj['seed'][:]\n",
    "m1 = np.isin(inj['brickname'][:],bricks2use)\n",
    "print(seed.size, seed[m1].size)"
   ]
  },
  {
   "cell_type": "code",
   "execution_count": 18,
   "id": "4cfa074f-4047-434e-bdd5-63448eb71b53",
   "metadata": {},
   "outputs": [
    {
     "name": "stdout",
     "output_type": "stream",
     "text": [
      "7415673 7414593\n"
     ]
    }
   ],
   "source": [
    "#a_inj = ft.FITS(output_dir+'/injected.fits')[1]\n",
    "a_seed = a_inj['seed'][:]\n",
    "m2 = np.isin(a_inj['brickname'][:],bricks2use)\n",
    "print(a_seed.size, a_seed[m2].size)"
   ]
  },
  {
   "cell_type": "code",
   "execution_count": 19,
   "id": "f4ed0f37-b192-4a25-9685-b277b1adb410",
   "metadata": {},
   "outputs": [
    {
     "name": "stdout",
     "output_type": "stream",
     "text": [
      "my run:  [       831        840        999 ... 4294966359 4294966406 4294966477]\n",
      "Arnaud run:  [      1980       2639       2674 ... 4294964443 4294965058 4294965853]\n",
      "[]\n"
     ]
    }
   ],
   "source": [
    "print('my run: ', np.sort(seed[m1]))\n",
    "print('Arnaud run: ', np.sort(a_seed[m2]))\n",
    "print(seed[m1][seed[m1] == a_seed[m2][0]])"
   ]
  },
  {
   "cell_type": "markdown",
   "id": "4e1fd212-6043-48ef-a6c6-17dcdc4857c2",
   "metadata": {},
   "source": [
    "Looking at positions"
   ]
  },
  {
   "cell_type": "code",
   "execution_count": 20,
   "id": "43720adf-f266-4a97-9f64-208c35c5cb04",
   "metadata": {},
   "outputs": [],
   "source": [
    "sort1_ind = np.argsort(inj['brickname'][:][m1])\n",
    "sort2_ind = np.argsort(a_inj['brickname'][:][m2])"
   ]
  },
  {
   "cell_type": "code",
   "execution_count": 21,
   "id": "01db6f43-581c-4d41-adad-b085fa59384a",
   "metadata": {},
   "outputs": [
    {
     "name": "stdout",
     "output_type": "stream",
     "text": [
      "my run:  ['1840p335' '1840p335' '1840p335' ... '2823p562' '2823p562' '2823p562']\n",
      "Arnaud run:  ['1840p335' '1840p335' '1840p335' ... '2823p562' '2823p562' '2823p562']\n"
     ]
    },
    {
     "data": {
      "text/plain": [
       "True"
      ]
     },
     "execution_count": 21,
     "metadata": {},
     "output_type": "execute_result"
    }
   ],
   "source": [
    "print('my run: ', inj['brickname'][:][m1][sort1_ind])\n",
    "print('Arnaud run: ',a_inj['brickname'][:][m2][sort2_ind])\n",
    "np.array_equal(inj['brickname'][:][m1][sort1_ind],a_inj['brickname'][:][m2][sort2_ind])"
   ]
  },
  {
   "cell_type": "code",
   "execution_count": 53,
   "id": "f831bc95-e1e2-4104-afa2-9e2e9a12200f",
   "metadata": {},
   "outputs": [],
   "source": [
    "#pos = {'ra':inj['ra'][:][m1], 'dec':inj['dec'][:][m1][sort1_ind]}\n",
    "#a_pos = {'ra':a_inj['ra'][:][m2][sort2_ind], 'dec':a_inj['dec'][:][m2][sort2_ind]}\n",
    "pos = {'ra':np.sort(inj['ra'][:][m1]), 'dec':np.sort(inj['dec'][:][m1])}\n",
    "a_pos = {'ra':np.sort(a_inj['ra'][:][m2]), 'dec':np.sort(a_inj['dec'][:][m2])}"
   ]
  },
  {
   "cell_type": "code",
   "execution_count": 54,
   "id": "d2897f93-8da8-439a-9c6c-c852c223f8fc",
   "metadata": {},
   "outputs": [
    {
     "data": {
      "text/plain": [
       "7414593"
      ]
     },
     "execution_count": 54,
     "metadata": {},
     "output_type": "execute_result"
    }
   ],
   "source": [
    "pos['ra'].size"
   ]
  },
  {
   "cell_type": "code",
   "execution_count": 55,
   "id": "29caa491-ae42-4a75-ba0b-2f20e3ecaffd",
   "metadata": {},
   "outputs": [
    {
     "data": {
      "text/plain": [
       "7414593"
      ]
     },
     "execution_count": 55,
     "metadata": {},
     "output_type": "execute_result"
    }
   ],
   "source": [
    "a_pos['ra'].size"
   ]
  },
  {
   "cell_type": "code",
   "execution_count": 56,
   "id": "1f7eb96c-9564-4964-831b-69ab275f9488",
   "metadata": {},
   "outputs": [
    {
     "name": "stdout",
     "output_type": "stream",
     "text": [
      "False False\n"
     ]
    }
   ],
   "source": [
    "print(np.array_equal(pos['ra'],a_pos['ra']),np.array_equal(pos['dec'],a_pos['dec']))"
   ]
  },
  {
   "cell_type": "code",
   "execution_count": 35,
   "id": "b1b57d2d-4fbf-45e0-ab55-95fb4af8ee6b",
   "metadata": {},
   "outputs": [
    {
     "data": {
      "text/plain": [
       "{'ra': array([184.1808915 , 183.97368702, 183.98626077, ..., 282.43592217,\n",
       "        282.17212254, 282.10531952]),\n",
       " 'dec': array([33.38466941, 33.54193692, 33.54194263, ..., 56.20801065,\n",
       "        56.20799062, 56.3650967 ])}"
      ]
     },
     "execution_count": 45,
     "metadata": {},
     "output_type": "execute_result"
    }
   ],
   "source": [
    "pos['ra'][-1]"
   ]
  },
  {
   "cell_type": "code",
   "execution_count": 36,
   "id": "7daa958f-1dd0-40a2-8af3-c78025428b87",
   "metadata": {},
   "outputs": [
    {
     "data": {
      "text/plain": [
       "{'ra': array([184.1808915 , 183.97368702, 183.98626077, ..., 282.43589244,\n",
       "        282.17209256, 282.10528936]),\n",
       " 'dec': array([33.38466941, 33.54193692, 33.54194263, ..., 56.20804648,\n",
       "        56.20802639, 56.36513245])}"
      ]
     },
     "execution_count": 46,
     "metadata": {},
     "output_type": "execute_result"
    }
   ],
   "source": [
    "a_pos['ra'][-1]"
   ]
  },
  {
   "cell_type": "code",
   "execution_count": 42,
   "id": "32c965ed-8494-46e2-8b17-4dbc906c5d22",
   "metadata": {},
   "outputs": [
    {
     "data": {
      "text/plain": [
       "True"
      ]
     },
     "execution_count": 42,
     "metadata": {},
     "output_type": "execute_result"
    }
   ],
   "source": [
    "col = 'ra'\n",
    "inj[col][:].size == np.unique(inj[col][:]).size"
   ]
  },
  {
   "cell_type": "code",
   "execution_count": 39,
   "id": "5826bd19-992d-4857-b616-12e3f3880203",
   "metadata": {},
   "outputs": [
    {
     "data": {
      "text/plain": [
       "\n",
       "  file: /global/cscratch1/sd/arosado/legacysim/dr9/DA02/north/file0_rs0_skip0/injected.fits\n",
       "  extension: 1\n",
       "  type: BINARY_TBL\n",
       "  rows: 7547545\n",
       "  column info:\n",
       "    bx                  f8  \n",
       "    by                  f8  \n",
       "    ra                  f8  \n",
       "    dec                 f8  \n",
       "    id                  i8  \n",
       "    brickname           S8  \n",
       "    photsys             S1  \n",
       "    objid               i4  \n",
       "    g                   f4  \n",
       "    r                   f4  \n",
       "    z                   f4  \n",
       "    gfiber              f4  \n",
       "    rfiber              f4  \n",
       "    zfiber              f4  \n",
       "    shape_r             f4  \n",
       "    sersic              f4  \n",
       "    shape_ba            f4  \n",
       "    shape_phi           f8  \n",
       "    hsc_object_id       i8  \n",
       "    hsc_demp_photoz_best\n",
       "                        f4  \n",
       "    hsc_mizuki_photoz_best\n",
       "                        f4  \n",
       "    mw_transmission_g\n",
       "                        f8  \n",
       "    flux_g              f8  \n",
       "    mw_transmission_r\n",
       "                        f8  \n",
       "    flux_r              f8  \n",
       "    mw_transmission_z\n",
       "                        f8  \n",
       "    flux_z              f8  \n",
       "    shape_e1            f8  \n",
       "    shape_e2            f8  \n",
       "    seed                i8  "
      ]
     },
     "execution_count": 39,
     "metadata": {},
     "output_type": "execute_result"
    }
   ],
   "source": [
    "inj"
   ]
  },
  {
   "cell_type": "markdown",
   "id": "efc2a2c9-c0d8-4c16-ae04-a2ad4d9071c5",
   "metadata": {},
   "source": [
    "Unpickle my run"
   ]
  },
  {
   "cell_type": "code",
   "execution_count": 3,
   "id": "4f596c5c-cf29-4393-8663-f532aada458f",
   "metadata": {},
   "outputs": [
    {
     "name": "stdout",
     "output_type": "stream",
     "text": [
      "<photometry.density_variations.HealpixDensity object at 0x1555513d8fd0>\n"
     ]
    }
   ],
   "source": [
    "# Step 1\n",
    "import pickle\n",
    " \n",
    "# Step 2\n",
    "with open('my_dens_concat', 'rb') as density_variation_file:\n",
    " \n",
    "    # Step 3\n",
    "    my_dens = pickle.load(density_variation_file)\n",
    " \n",
    "    # After adematti_dens is read from file\n",
    "    print(my_dens)"
   ]
  },
  {
   "cell_type": "code",
   "execution_count": 4,
   "id": "c871d2aa-59b3-40a2-a6f3-4259f9257364",
   "metadata": {},
   "outputs": [
    {
     "name": "stdout",
     "output_type": "stream",
     "text": [
      "[<photometry.density_variations.HealpixDensity object at 0x1555513d1fd0>, <photometry.density_variations.HealpixDensity object at 0x155524d38070>]\n"
     ]
    }
   ],
   "source": [
    "# Step 1\n",
    "import pickle\n",
    " \n",
    "# Step 2\n",
    "with open('my_others_concat', 'rb') as others_file:\n",
    " \n",
    "    # Step 3\n",
    "    my_others = pickle.load(others_file)\n",
    " \n",
    "    # After adematti_dens is read from file\n",
    "    print(my_others)"
   ]
  },
  {
   "cell_type": "markdown",
   "id": "bb4d385d-7b48-48d5-be0d-2973c795228c",
   "metadata": {},
   "source": [
    "Unpickle Arnaud's run"
   ]
  },
  {
   "cell_type": "code",
   "execution_count": 5,
   "id": "d0baf788-ecc3-4b76-9239-8120af176cd6",
   "metadata": {},
   "outputs": [
    {
     "name": "stdout",
     "output_type": "stream",
     "text": [
      "<photometry.density_variations.HealpixDensity object at 0x155551645af0>\n"
     ]
    }
   ],
   "source": [
    "# Step 1\n",
    "import pickle\n",
    " \n",
    "# Step 2\n",
    "with open('adematti_dens_concat', 'rb') as density_variation_file:\n",
    " \n",
    "    # Step 3\n",
    "    adematti_dens = pickle.load(density_variation_file)\n",
    " \n",
    "    # After adematti_dens is read from file\n",
    "    print(adematti_dens)"
   ]
  },
  {
   "cell_type": "code",
   "execution_count": 6,
   "id": "d32de486-790c-4da3-9c70-8ec76a2879b7",
   "metadata": {},
   "outputs": [
    {
     "name": "stdout",
     "output_type": "stream",
     "text": [
      "[<photometry.density_variations.HealpixDensity object at 0x1555513da8e0>, <photometry.density_variations.HealpixDensity object at 0x155524d38b20>]\n"
     ]
    }
   ],
   "source": [
    "# Step 1\n",
    "import pickle\n",
    " \n",
    "# Step 2\n",
    "with open('adematti_others_concat', 'rb') as others_file:\n",
    " \n",
    "    # Step 3\n",
    "    adematti_others = pickle.load(others_file)\n",
    " \n",
    "    # After adematti_dens is read from file\n",
    "    print(adematti_others)"
   ]
  },
  {
   "cell_type": "code",
   "execution_count": 7,
   "id": "00cd5f3d-6324-4d56-b908-ccf77ee0ee55",
   "metadata": {},
   "outputs": [
    {
     "data": {
      "text/plain": [
       "<photometry.density_variations.HealpixDensity at 0x1555513da8e0>"
      ]
     },
     "execution_count": 7,
     "metadata": {},
     "output_type": "execute_result"
    }
   ],
   "source": [
    "adematti_others[0]"
   ]
  },
  {
   "cell_type": "code",
   "execution_count": 8,
   "id": "ff8c3bda-b598-4593-bf28-6f4ba086641e",
   "metadata": {},
   "outputs": [],
   "source": [
    "props = ['EBV',\n",
    " 'GALDEPTH_G',\n",
    " 'GALDEPTH_R',\n",
    " 'GALDEPTH_Z',\n",
    " 'STARDENS',\n",
    " 'PSFSIZE_G',\n",
    " 'PSFSIZE_R',\n",
    " 'PSFSIZE_Z']\n",
    "\n",
    "labels = ['DR9', 'legacysim (my run)']#, 'legacysim $n = 1$']\n",
    "adematti_labels = ['DR9', \"legacysim (Arnaud's run)\"]#, 'legacysim $n = 1$']\n",
    "adematti_colors = ['k','brown']"
   ]
  },
  {
   "cell_type": "code",
   "execution_count": 10,
   "id": "81acce4f-d42b-42b4-8f9c-3129c3c07883",
   "metadata": {},
   "outputs": [
    {
     "name": "stderr",
     "output_type": "stream",
     "text": [
      "[ 000126.59 ]: 06-05 16:41  HealpixDensity  INFO     Fraction of randoms not included in EBV plot: 0.0199.\n",
      "[ 000126.60 ]: 06-05 16:41  HealpixDensity  INFO     Fraction of randoms not included in EBV plot: 0.0205.\n",
      "[ 000126.61 ]: 06-05 16:41  HealpixDensity  INFO     Fraction of randoms not included in EBV plot: 0.0199.\n",
      "[ 000126.61 ]: 06-05 16:41  HealpixDensity  INFO     Fraction of randoms not included in EBV plot: 0.0201.\n",
      "[ 000126.63 ]: 06-05 16:41  HealpixDensity  INFO     Fraction of randoms not included in GALDEPTH_G plot: 0.0131.\n",
      "[ 000126.63 ]: 06-05 16:41  HealpixDensity  INFO     Fraction of randoms not included in GALDEPTH_G plot: 0.0147.\n",
      "[ 000126.64 ]: 06-05 16:41  HealpixDensity  INFO     Fraction of randoms not included in GALDEPTH_G plot: 0.0131.\n",
      "[ 000126.64 ]: 06-05 16:41  HealpixDensity  INFO     Fraction of randoms not included in GALDEPTH_G plot: 0.0140.\n",
      "[ 000126.65 ]: 06-05 16:41  HealpixDensity  INFO     Fraction of randoms not included in GALDEPTH_R plot: 0.0139.\n",
      "[ 000126.66 ]: 06-05 16:41  HealpixDensity  INFO     Fraction of randoms not included in GALDEPTH_R plot: 0.0142.\n",
      "[ 000126.67 ]: 06-05 16:41  HealpixDensity  INFO     Fraction of randoms not included in GALDEPTH_R plot: 0.0139.\n",
      "[ 000126.67 ]: 06-05 16:41  HealpixDensity  INFO     Fraction of randoms not included in GALDEPTH_R plot: 0.0135.\n",
      "[ 000126.68 ]: 06-05 16:41  HealpixDensity  INFO     Fraction of randoms not included in GALDEPTH_Z plot: 0.0170.\n",
      "[ 000126.69 ]: 06-05 16:41  HealpixDensity  INFO     Fraction of randoms not included in GALDEPTH_Z plot: 0.0170.\n",
      "[ 000126.70 ]: 06-05 16:41  HealpixDensity  INFO     Fraction of randoms not included in GALDEPTH_Z plot: 0.0170.\n",
      "[ 000126.70 ]: 06-05 16:41  HealpixDensity  INFO     Fraction of randoms not included in GALDEPTH_Z plot: 0.0170.\n",
      "[ 000126.71 ]: 06-05 16:41  HealpixDensity  INFO     Fraction of randoms not included in STARDENS plot: 0.0161.\n",
      "[ 000126.71 ]: 06-05 16:41  HealpixDensity  INFO     Fraction of randoms not included in STARDENS plot: 0.0162.\n",
      "[ 000126.72 ]: 06-05 16:41  HealpixDensity  INFO     Fraction of randoms not included in STARDENS plot: 0.0161.\n",
      "[ 000126.73 ]: 06-05 16:41  HealpixDensity  INFO     Fraction of randoms not included in STARDENS plot: 0.0158.\n",
      "[ 000126.73 ]: 06-05 16:41  HealpixDensity  INFO     Fraction of randoms not included in PSFSIZE_G plot: 0.0170.\n",
      "[ 000126.74 ]: 06-05 16:41  HealpixDensity  INFO     Fraction of randoms not included in PSFSIZE_G plot: 0.0175.\n",
      "[ 000126.75 ]: 06-05 16:41  HealpixDensity  INFO     Fraction of randoms not included in PSFSIZE_G plot: 0.0170.\n",
      "[ 000126.75 ]: 06-05 16:41  HealpixDensity  INFO     Fraction of randoms not included in PSFSIZE_G plot: 0.0168.\n",
      "[ 000126.76 ]: 06-05 16:41  HealpixDensity  INFO     Fraction of randoms not included in PSFSIZE_R plot: 0.0197.\n",
      "[ 000126.77 ]: 06-05 16:41  HealpixDensity  INFO     Fraction of randoms not included in PSFSIZE_R plot: 0.0187.\n",
      "[ 000126.78 ]: 06-05 16:41  HealpixDensity  INFO     Fraction of randoms not included in PSFSIZE_R plot: 0.0197.\n",
      "[ 000126.78 ]: 06-05 16:41  HealpixDensity  INFO     Fraction of randoms not included in PSFSIZE_R plot: 0.0183.\n",
      "[ 000126.79 ]: 06-05 16:41  HealpixDensity  INFO     Fraction of randoms not included in PSFSIZE_Z plot: 0.0202.\n",
      "[ 000126.80 ]: 06-05 16:41  HealpixDensity  INFO     Fraction of randoms not included in PSFSIZE_Z plot: 0.0205.\n",
      "[ 000126.81 ]: 06-05 16:41  HealpixDensity  INFO     Fraction of randoms not included in PSFSIZE_Z plot: 0.0202.\n",
      "[ 000126.81 ]: 06-05 16:41  HealpixDensity  INFO     Fraction of randoms not included in PSFSIZE_Z plot: 0.0200.\n"
     ]
    },
    {
     "data": {
      "image/png": "[encoded data removed]",
      "text/plain": [
       "<Figure size 1440x576 with 8 Axes>"
      ]
     },
     "metadata": {
      "needs_background": "light"
     },
     "output_type": "display_data"
    }
   ],
   "source": [
    "kw = dict(leg_kwargs={},ylim=(-0.1,0.1),xedges={'quantiles':[0.01,0.99]})\n",
    "fig,lax = plt.subplots(ncols=4,nrows=2,sharex=False,sharey=True,figsize=(20,8))\n",
    "fig.subplots_adjust(hspace=0.4,wspace=0.2)\n",
    "lax = lax.flatten()\n",
    "for iax,prop in enumerate(props):\n",
    "    my_dens.plot_density_variations(ax=lax[iax],others=[my_others[0]],prop=prop,histos=[my_dens],var_kwargs={'labels':labels if iax==0 else None},**kw)\n",
    "    adematti_dens.plot_density_variations(ax=lax[iax],others=[adematti_others[0]],prop=prop,histos=[adematti_dens],var_kwargs={'labels':adematti_labels if iax==0 else None, 'colors':adematti_colors},**kw)\n",
    "filename = os.path.join(plot_dir,'compare_density_{}_concat.png'.format(run))\n",
    "fig.savefig(filename, bbox_inches='tight', pad_inches=0.1, dpi=200)\n",
    "plt.show()"
   ]
  },
  {
   "cell_type": "code",
   "execution_count": null,
   "id": "5abb37dc-e46d-4d60-a4f8-f2067d5d3f61",
   "metadata": {},
   "outputs": [],
   "source": []
  },
  {
   "cell_type": "code",
   "execution_count": null,
   "id": "16d1f556-2fdb-492f-a212-56d65878e317",
   "metadata": {},
   "outputs": [],
   "source": []
  }
 ],
 "metadata": {
  "kernelspec": {
   "display_name": "DESI 21.3",
   "language": "python",
   "name": "desi-21.3"
  },
  "language_info": {
   "codemirror_mode": {
    "name": "ipython",
    "version": 3
   },
   "file_extension": ".py",
   "mimetype": "text/x-python",
   "name": "python",
   "nbconvert_exporter": "python",
   "pygments_lexer": "ipython3",
   "version": "3.8.3"
  }
 },
 "nbformat": 4,
 "nbformat_minor": 5
}
